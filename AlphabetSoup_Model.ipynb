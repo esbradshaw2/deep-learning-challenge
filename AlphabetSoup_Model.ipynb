{
 "cells": [
  {
   "cell_type": "markdown",
   "metadata": {
    "id": "z-9Q-gHFom36"
   },
   "source": [
    "## Preprocessing"
   ]
  },
  {
   "cell_type": "code",
   "execution_count": 19,
   "metadata": {
    "colab": {
     "base_uri": "https://localhost:8080/",
     "height": 452
    },
    "id": "i3Ka3MKNom37",
    "outputId": "754bf39b-d3d7-46e1-a7a2-448aef25fef1"
   },
   "outputs": [
    {
     "data": {
      "text/html": [
       "<div>\n",
       "<style scoped>\n",
       "    .dataframe tbody tr th:only-of-type {\n",
       "        vertical-align: middle;\n",
       "    }\n",
       "\n",
       "    .dataframe tbody tr th {\n",
       "        vertical-align: top;\n",
       "    }\n",
       "\n",
       "    .dataframe thead th {\n",
       "        text-align: right;\n",
       "    }\n",
       "</style>\n",
       "<table border=\"1\" class=\"dataframe\">\n",
       "  <thead>\n",
       "    <tr style=\"text-align: right;\">\n",
       "      <th></th>\n",
       "      <th>EIN</th>\n",
       "      <th>NAME</th>\n",
       "      <th>APPLICATION_TYPE</th>\n",
       "      <th>AFFILIATION</th>\n",
       "      <th>CLASSIFICATION</th>\n",
       "      <th>USE_CASE</th>\n",
       "      <th>ORGANIZATION</th>\n",
       "      <th>STATUS</th>\n",
       "      <th>INCOME_AMT</th>\n",
       "      <th>SPECIAL_CONSIDERATIONS</th>\n",
       "      <th>ASK_AMT</th>\n",
       "      <th>IS_SUCCESSFUL</th>\n",
       "    </tr>\n",
       "  </thead>\n",
       "  <tbody>\n",
       "    <tr>\n",
       "      <th>0</th>\n",
       "      <td>10520599</td>\n",
       "      <td>BLUE KNIGHTS MOTORCYCLE CLUB</td>\n",
       "      <td>T10</td>\n",
       "      <td>Independent</td>\n",
       "      <td>C1000</td>\n",
       "      <td>ProductDev</td>\n",
       "      <td>Association</td>\n",
       "      <td>1</td>\n",
       "      <td>0</td>\n",
       "      <td>N</td>\n",
       "      <td>5000</td>\n",
       "      <td>1</td>\n",
       "    </tr>\n",
       "    <tr>\n",
       "      <th>1</th>\n",
       "      <td>10531628</td>\n",
       "      <td>AMERICAN CHESAPEAKE CLUB CHARITABLE TR</td>\n",
       "      <td>T3</td>\n",
       "      <td>Independent</td>\n",
       "      <td>C2000</td>\n",
       "      <td>Preservation</td>\n",
       "      <td>Co-operative</td>\n",
       "      <td>1</td>\n",
       "      <td>1-9999</td>\n",
       "      <td>N</td>\n",
       "      <td>108590</td>\n",
       "      <td>1</td>\n",
       "    </tr>\n",
       "    <tr>\n",
       "      <th>2</th>\n",
       "      <td>10547893</td>\n",
       "      <td>ST CLOUD PROFESSIONAL FIREFIGHTERS</td>\n",
       "      <td>T5</td>\n",
       "      <td>CompanySponsored</td>\n",
       "      <td>C3000</td>\n",
       "      <td>ProductDev</td>\n",
       "      <td>Association</td>\n",
       "      <td>1</td>\n",
       "      <td>0</td>\n",
       "      <td>N</td>\n",
       "      <td>5000</td>\n",
       "      <td>0</td>\n",
       "    </tr>\n",
       "    <tr>\n",
       "      <th>3</th>\n",
       "      <td>10553066</td>\n",
       "      <td>SOUTHSIDE ATHLETIC ASSOCIATION</td>\n",
       "      <td>T3</td>\n",
       "      <td>CompanySponsored</td>\n",
       "      <td>C2000</td>\n",
       "      <td>Preservation</td>\n",
       "      <td>Trust</td>\n",
       "      <td>1</td>\n",
       "      <td>10000-24999</td>\n",
       "      <td>N</td>\n",
       "      <td>6692</td>\n",
       "      <td>1</td>\n",
       "    </tr>\n",
       "    <tr>\n",
       "      <th>4</th>\n",
       "      <td>10556103</td>\n",
       "      <td>GENETIC RESEARCH INSTITUTE OF THE DESERT</td>\n",
       "      <td>T3</td>\n",
       "      <td>Independent</td>\n",
       "      <td>C1000</td>\n",
       "      <td>Heathcare</td>\n",
       "      <td>Trust</td>\n",
       "      <td>1</td>\n",
       "      <td>100000-499999</td>\n",
       "      <td>N</td>\n",
       "      <td>142590</td>\n",
       "      <td>1</td>\n",
       "    </tr>\n",
       "  </tbody>\n",
       "</table>\n",
       "</div>"
      ],
      "text/plain": [
       "        EIN                                      NAME APPLICATION_TYPE  \\\n",
       "0  10520599              BLUE KNIGHTS MOTORCYCLE CLUB              T10   \n",
       "1  10531628    AMERICAN CHESAPEAKE CLUB CHARITABLE TR               T3   \n",
       "2  10547893        ST CLOUD PROFESSIONAL FIREFIGHTERS               T5   \n",
       "3  10553066            SOUTHSIDE ATHLETIC ASSOCIATION               T3   \n",
       "4  10556103  GENETIC RESEARCH INSTITUTE OF THE DESERT               T3   \n",
       "\n",
       "        AFFILIATION CLASSIFICATION      USE_CASE  ORGANIZATION  STATUS  \\\n",
       "0       Independent          C1000    ProductDev   Association       1   \n",
       "1       Independent          C2000  Preservation  Co-operative       1   \n",
       "2  CompanySponsored          C3000    ProductDev   Association       1   \n",
       "3  CompanySponsored          C2000  Preservation         Trust       1   \n",
       "4       Independent          C1000     Heathcare         Trust       1   \n",
       "\n",
       "      INCOME_AMT SPECIAL_CONSIDERATIONS  ASK_AMT  IS_SUCCESSFUL  \n",
       "0              0                      N     5000              1  \n",
       "1         1-9999                      N   108590              1  \n",
       "2              0                      N     5000              0  \n",
       "3    10000-24999                      N     6692              1  \n",
       "4  100000-499999                      N   142590              1  "
      ]
     },
     "execution_count": 19,
     "metadata": {},
     "output_type": "execute_result"
    }
   ],
   "source": [
    "# Import our dependencies\n",
    "from sklearn.model_selection import train_test_split\n",
    "from sklearn.preprocessing import StandardScaler\n",
    "import pandas as pd\n",
    "import tensorflow as tf\n",
    "\n",
    "#  Import and read the charity_data.csv.\n",
    "import pandas as pd\n",
    "application_df = pd.read_csv(\"https://static.bc-edx.com/data/dl-1-2/m21/lms/starter/charity_data.csv\")\n",
    "application_df.head()"
   ]
  },
  {
   "cell_type": "code",
   "execution_count": 20,
   "metadata": {
    "id": "ohMPebScom38"
   },
   "outputs": [],
   "source": [
    "# Identify target variable and feature variables\n",
    "# Drop the non-beneficial ID columns, 'EIN' and 'NAME'.\n",
    "target = 'IS_SUCCESSFUL'\n",
    "features = application_df.drop(['EIN', 'NAME'], axis=1)"
   ]
  },
  {
   "cell_type": "code",
   "execution_count": 21,
   "metadata": {
    "id": "w-iiv9Gbom38"
   },
   "outputs": [],
   "source": [
    "# Determine the number of unique values in each column.\n",
    "unique_counts = features.nunique()"
   ]
  },
  {
   "cell_type": "code",
   "execution_count": 22,
   "metadata": {
    "id": "1a85f9hEom38"
   },
   "outputs": [],
   "source": [
    "# Look at APPLICATION_TYPE value counts to identify and replace with \"Other\"\n",
    "application_counts = features['APPLICATION_TYPE'].value_counts()\n"
   ]
  },
  {
   "cell_type": "code",
   "execution_count": 23,
   "metadata": {
    "colab": {
     "base_uri": "https://localhost:8080/"
    },
    "id": "v11mut7Kom38",
    "outputId": "8a7b1e78-6133-474b-9684-bfbab0a5a22b"
   },
   "outputs": [
    {
     "data": {
      "text/plain": [
       "T3       27037\n",
       "T4        1542\n",
       "T6        1216\n",
       "T5        1173\n",
       "T19       1065\n",
       "T8         737\n",
       "T7         725\n",
       "T10        528\n",
       "Other      276\n",
       "Name: APPLICATION_TYPE, dtype: int64"
      ]
     },
     "execution_count": 23,
     "metadata": {},
     "output_type": "execute_result"
    }
   ],
   "source": [
    "# Choose a cutoff value and create a list of application types to be replaced\n",
    "# use the variable name `application_types_to_replace`\n",
    "application_types_to_replace = list(application_counts[application_counts < 500].index)\n",
    "\n",
    "\n",
    "# Replace in dataframe\n",
    "for app in application_types_to_replace:\n",
    "    features['APPLICATION_TYPE'] = features['APPLICATION_TYPE'].replace(app,\"Other\")\n",
    "\n",
    "# Check to make sure replacement was successful\n",
    "features['APPLICATION_TYPE'].value_counts()"
   ]
  },
  {
   "cell_type": "code",
   "execution_count": 24,
   "metadata": {
    "id": "AKssnRtqom39"
   },
   "outputs": [],
   "source": [
    "# Look at CLASSIFICATION value counts to identify and replace with \"Other\"\n",
    "classification_counts = features['CLASSIFICATION'].value_counts()\n",
    "replace_classification = list(classification_counts[classification_counts < 1000].index)"
   ]
  },
  {
   "cell_type": "code",
   "execution_count": 25,
   "metadata": {
    "id": "IVYCCtRMom39"
   },
   "outputs": [],
   "source": [
    "# You may find it helpful to look at CLASSIFICATION value counts >1\n",
    "classification_counts_gt1 = features['CLASSIFICATION'].value_counts()[features['CLASSIFICATION'].value_counts() > 1]"
   ]
  },
  {
   "cell_type": "code",
   "execution_count": 26,
   "metadata": {
    "colab": {
     "base_uri": "https://localhost:8080/"
    },
    "id": "oEgrWh7lom39",
    "outputId": "8455e4e2-8596-4af2-a015-995cccdfab66",
    "scrolled": true
   },
   "outputs": [
    {
     "data": {
      "text/plain": [
       "C1000    17326\n",
       "C2000     6074\n",
       "C1200     4837\n",
       "C3000     1918\n",
       "C2100     1883\n",
       "Other     1458\n",
       "C7000      777\n",
       "C1370        1\n",
       "C1236        1\n",
       "C2190        1\n",
       "C4200        1\n",
       "C5200        1\n",
       "C6100        1\n",
       "C2600        1\n",
       "C1248        1\n",
       "C1580        1\n",
       "C1820        1\n",
       "C1900        1\n",
       "C2570        1\n",
       "C1283        1\n",
       "C3700        1\n",
       "C2500        1\n",
       "C1570        1\n",
       "C2380        1\n",
       "C1732        1\n",
       "C1728        1\n",
       "C2170        1\n",
       "C4120        1\n",
       "C8210        1\n",
       "C4500        1\n",
       "C1245        1\n",
       "C2561        1\n",
       "C2150        1\n",
       "Name: CLASSIFICATION, dtype: int64"
      ]
     },
     "execution_count": 26,
     "metadata": {},
     "output_type": "execute_result"
    }
   ],
   "source": [
    "# Choose a cutoff value and create a list of classifications to be replaced\n",
    "# use the variable name `classifications_to_replace`\n",
    "cutoff_value = 500\n",
    "classifications_to_replace = list(classification_counts_gt1[classification_counts_gt1 < cutoff_value].index)\n",
    "\n",
    "# Replace in dataframe\n",
    "for cls in classifications_to_replace:\n",
    "    features['CLASSIFICATION'] = features['CLASSIFICATION'].replace(cls,\"Other\")\n",
    "\n",
    "# Check to make sure replacement was successful\n",
    "features['CLASSIFICATION'].value_counts()"
   ]
  },
  {
   "cell_type": "code",
   "execution_count": 27,
   "metadata": {
    "id": "vuGfQMkIom39"
   },
   "outputs": [],
   "source": [
    "# Convert categorical data to numeric with `pd.get_dummies`\n",
    "df_encoded = pd.get_dummies(features)"
   ]
  },
  {
   "cell_type": "code",
   "execution_count": 28,
   "metadata": {
    "id": "BXCBxD86om39"
   },
   "outputs": [],
   "source": [
    "# Split our preprocessed data into our features and target arrays\n",
    "X = df_encoded.drop(target, axis=1)\n",
    "y = df_encoded[target]\n",
    "\n",
    "# Split the preprocessed data into a training and testing dataset\n",
    "X_train, X_test, y_train, y_test = train_test_split(X, y, test_size=0.2, random_state=1)"
   ]
  },
  {
   "cell_type": "code",
   "execution_count": 29,
   "metadata": {
    "id": "8fkpZs7gom39"
   },
   "outputs": [],
   "source": [
    "# Create a StandardScaler instances\n",
    "scaler = StandardScaler()\n",
    "\n",
    "# Fit the StandardScaler\n",
    "#X_scaler = scaler.fit(X_train)\n",
    "\n",
    "# Scale the data\n",
    "#X_train_scaled = X_scaler.transform(X_train)\n",
    "#X_test_scaled = X_scaler.transform(X_test)\n",
    "\n",
    "# Fit the StandardScaler\n",
    "X_train_scaled = scaler.fit_transform(X_train)\n",
    "X_test_scaled = scaler.transform(X_test)"
   ]
  },
  {
   "cell_type": "markdown",
   "metadata": {
    "id": "qn_gQv3Tom39"
   },
   "source": [
    "## Compile, Train and Evaluate the Model"
   ]
  },
  {
   "cell_type": "code",
   "execution_count": 31,
   "metadata": {
    "colab": {
     "base_uri": "https://localhost:8080/",
     "height": 228
    },
    "id": "nc1pAc_4om39",
    "outputId": "74864a7a-ba66-45e4-83f9-0b8d71c99c98"
   },
   "outputs": [
    {
     "name": "stdout",
     "output_type": "stream",
     "text": [
      "Model: \"sequential_5\"\n",
      "_________________________________________________________________\n",
      " Layer (type)                Output Shape              Param #   \n",
      "=================================================================\n",
      " dense (Dense)               (None, 10)                710       \n",
      "                                                                 \n",
      " dense_1 (Dense)             (None, 5)                 55        \n",
      "                                                                 \n",
      " dense_2 (Dense)             (None, 1)                 6         \n",
      "                                                                 \n",
      "=================================================================\n",
      "Total params: 771\n",
      "Trainable params: 771\n",
      "Non-trainable params: 0\n",
      "_________________________________________________________________\n"
     ]
    }
   ],
   "source": [
    "# Define the model - deep neural net, i.e., the number of input features and hidden nodes for each layer.\n",
    "nn = tf.keras.models.Sequential()\n",
    "input_features = X_train.shape[1]\n",
    "\n",
    "# First hidden layer\n",
    "nn.add(tf.keras.layers.Dense(units=10, activation='relu', input_dim=input_features))\n",
    "\n",
    "# Second hidden layer\n",
    "nn.add(tf.keras.layers.Dense(units=5, activation='relu'))\n",
    "\n",
    "# Output layer\n",
    "nn.add(tf.keras.layers.Dense(units=1, activation='sigmoid'))\n",
    "\n",
    "# Check the structure of the model\n",
    "nn.summary()"
   ]
  },
  {
   "cell_type": "code",
   "execution_count": 32,
   "metadata": {
    "colab": {
     "base_uri": "https://localhost:8080/",
     "height": 159
    },
    "id": "mNT4YsXhom3-",
    "outputId": "7b0c1d5c-ce06-41d7-f206-fb94e608d537"
   },
   "outputs": [],
   "source": [
    "# Compile the model\n",
    "nn.compile(loss='binary_crossentropy', optimizer='adam', metrics=['accuracy'])"
   ]
  },
  {
   "cell_type": "code",
   "execution_count": 34,
   "metadata": {
    "colab": {
     "base_uri": "https://localhost:8080/",
     "height": 159
    },
    "id": "qcmWqWF1om3-",
    "outputId": "a351d131-3c0d-4595-97b6-19c0213ba378",
    "scrolled": true
   },
   "outputs": [
    {
     "name": "stdout",
     "output_type": "stream",
     "text": [
      "Epoch 1/50\n",
      "858/858 - 0s - loss: 0.5435 - accuracy: 0.7346 - 328ms/epoch - 382us/step\n",
      "Epoch 2/50\n",
      "858/858 - 0s - loss: 0.5436 - accuracy: 0.7344 - 319ms/epoch - 372us/step\n",
      "Epoch 3/50\n",
      "858/858 - 0s - loss: 0.5436 - accuracy: 0.7350 - 318ms/epoch - 371us/step\n",
      "Epoch 4/50\n",
      "858/858 - 0s - loss: 0.5435 - accuracy: 0.7349 - 317ms/epoch - 370us/step\n",
      "Epoch 5/50\n",
      "858/858 - 0s - loss: 0.5435 - accuracy: 0.7343 - 318ms/epoch - 371us/step\n",
      "Epoch 6/50\n",
      "858/858 - 0s - loss: 0.5436 - accuracy: 0.7349 - 319ms/epoch - 372us/step\n",
      "Epoch 7/50\n",
      "858/858 - 0s - loss: 0.5435 - accuracy: 0.7362 - 317ms/epoch - 370us/step\n",
      "Epoch 8/50\n",
      "858/858 - 0s - loss: 0.5432 - accuracy: 0.7352 - 320ms/epoch - 372us/step\n",
      "Epoch 9/50\n",
      "858/858 - 0s - loss: 0.5434 - accuracy: 0.7348 - 326ms/epoch - 380us/step\n",
      "Epoch 10/50\n",
      "858/858 - 0s - loss: 0.5431 - accuracy: 0.7346 - 313ms/epoch - 365us/step\n",
      "Epoch 11/50\n",
      "858/858 - 0s - loss: 0.5434 - accuracy: 0.7348 - 306ms/epoch - 357us/step\n",
      "Epoch 12/50\n",
      "858/858 - 0s - loss: 0.5435 - accuracy: 0.7352 - 308ms/epoch - 359us/step\n",
      "Epoch 13/50\n",
      "858/858 - 0s - loss: 0.5433 - accuracy: 0.7352 - 307ms/epoch - 358us/step\n",
      "Epoch 14/50\n",
      "858/858 - 0s - loss: 0.5428 - accuracy: 0.7350 - 307ms/epoch - 358us/step\n",
      "Epoch 15/50\n",
      "858/858 - 0s - loss: 0.5431 - accuracy: 0.7350 - 308ms/epoch - 359us/step\n",
      "Epoch 16/50\n",
      "858/858 - 0s - loss: 0.5430 - accuracy: 0.7354 - 307ms/epoch - 357us/step\n",
      "Epoch 17/50\n",
      "858/858 - 0s - loss: 0.5430 - accuracy: 0.7350 - 306ms/epoch - 357us/step\n",
      "Epoch 18/50\n",
      "858/858 - 0s - loss: 0.5429 - accuracy: 0.7352 - 306ms/epoch - 356us/step\n",
      "Epoch 19/50\n",
      "858/858 - 0s - loss: 0.5426 - accuracy: 0.7357 - 306ms/epoch - 357us/step\n",
      "Epoch 20/50\n",
      "858/858 - 0s - loss: 0.5430 - accuracy: 0.7348 - 307ms/epoch - 357us/step\n",
      "Epoch 21/50\n",
      "858/858 - 0s - loss: 0.5428 - accuracy: 0.7354 - 321ms/epoch - 374us/step\n",
      "Epoch 22/50\n",
      "858/858 - 0s - loss: 0.5429 - accuracy: 0.7346 - 306ms/epoch - 357us/step\n",
      "Epoch 23/50\n",
      "858/858 - 0s - loss: 0.5427 - accuracy: 0.7358 - 305ms/epoch - 356us/step\n",
      "Epoch 24/50\n",
      "858/858 - 0s - loss: 0.5427 - accuracy: 0.7350 - 307ms/epoch - 357us/step\n",
      "Epoch 25/50\n",
      "858/858 - 0s - loss: 0.5424 - accuracy: 0.7361 - 307ms/epoch - 358us/step\n",
      "Epoch 26/50\n",
      "858/858 - 0s - loss: 0.5425 - accuracy: 0.7344 - 306ms/epoch - 357us/step\n",
      "Epoch 27/50\n",
      "858/858 - 0s - loss: 0.5426 - accuracy: 0.7354 - 306ms/epoch - 357us/step\n",
      "Epoch 28/50\n",
      "858/858 - 0s - loss: 0.5422 - accuracy: 0.7357 - 307ms/epoch - 357us/step\n",
      "Epoch 29/50\n",
      "858/858 - 0s - loss: 0.5423 - accuracy: 0.7354 - 307ms/epoch - 358us/step\n",
      "Epoch 30/50\n",
      "858/858 - 0s - loss: 0.5425 - accuracy: 0.7346 - 307ms/epoch - 358us/step\n",
      "Epoch 31/50\n",
      "858/858 - 0s - loss: 0.5426 - accuracy: 0.7358 - 306ms/epoch - 357us/step\n",
      "Epoch 32/50\n",
      "858/858 - 0s - loss: 0.5419 - accuracy: 0.7355 - 306ms/epoch - 357us/step\n",
      "Epoch 33/50\n",
      "858/858 - 0s - loss: 0.5422 - accuracy: 0.7352 - 307ms/epoch - 358us/step\n",
      "Epoch 34/50\n",
      "858/858 - 0s - loss: 0.5419 - accuracy: 0.7351 - 306ms/epoch - 356us/step\n",
      "Epoch 35/50\n",
      "858/858 - 0s - loss: 0.5424 - accuracy: 0.7359 - 308ms/epoch - 359us/step\n",
      "Epoch 36/50\n",
      "858/858 - 0s - loss: 0.5419 - accuracy: 0.7349 - 307ms/epoch - 357us/step\n",
      "Epoch 37/50\n",
      "858/858 - 0s - loss: 0.5420 - accuracy: 0.7365 - 308ms/epoch - 359us/step\n",
      "Epoch 38/50\n",
      "858/858 - 0s - loss: 0.5419 - accuracy: 0.7349 - 308ms/epoch - 359us/step\n",
      "Epoch 39/50\n",
      "858/858 - 0s - loss: 0.5417 - accuracy: 0.7351 - 308ms/epoch - 359us/step\n",
      "Epoch 40/50\n",
      "858/858 - 0s - loss: 0.5416 - accuracy: 0.7346 - 308ms/epoch - 359us/step\n",
      "Epoch 41/50\n",
      "858/858 - 0s - loss: 0.5415 - accuracy: 0.7345 - 304ms/epoch - 355us/step\n",
      "Epoch 42/50\n",
      "858/858 - 0s - loss: 0.5420 - accuracy: 0.7352 - 308ms/epoch - 358us/step\n",
      "Epoch 43/50\n",
      "858/858 - 0s - loss: 0.5413 - accuracy: 0.7363 - 309ms/epoch - 360us/step\n",
      "Epoch 44/50\n",
      "858/858 - 0s - loss: 0.5416 - accuracy: 0.7362 - 308ms/epoch - 359us/step\n",
      "Epoch 45/50\n",
      "858/858 - 0s - loss: 0.5419 - accuracy: 0.7359 - 309ms/epoch - 361us/step\n",
      "Epoch 46/50\n",
      "858/858 - 0s - loss: 0.5415 - accuracy: 0.7360 - 309ms/epoch - 360us/step\n",
      "Epoch 47/50\n",
      "858/858 - 0s - loss: 0.5418 - accuracy: 0.7354 - 309ms/epoch - 360us/step\n",
      "Epoch 48/50\n",
      "858/858 - 0s - loss: 0.5418 - accuracy: 0.7359 - 325ms/epoch - 379us/step\n",
      "Epoch 49/50\n",
      "858/858 - 0s - loss: 0.5416 - accuracy: 0.7359 - 309ms/epoch - 361us/step\n",
      "Epoch 50/50\n",
      "858/858 - 0s - loss: 0.5416 - accuracy: 0.7346 - 321ms/epoch - 374us/step\n"
     ]
    },
    {
     "data": {
      "text/plain": [
       "<keras.callbacks.History at 0x7fc930d40af0>"
      ]
     },
     "execution_count": 34,
     "metadata": {},
     "output_type": "execute_result"
    }
   ],
   "source": [
    "# Train the model\n",
    "nn.fit(X_train_scaled, y_train, epochs=50, shuffle=True, verbose=2)"
   ]
  },
  {
   "cell_type": "code",
   "execution_count": 35,
   "metadata": {
    "id": "O2GZuiYRom3-"
   },
   "outputs": [
    {
     "name": "stdout",
     "output_type": "stream",
     "text": [
      "215/215 - 0s - loss: 0.5568 - accuracy: 0.7267 - 141ms/epoch - 658us/step\n",
      "Loss: 0.5567781925201416, Accuracy: 0.7266764044761658\n"
     ]
    }
   ],
   "source": [
    "# Evaluate the model using the test data\n",
    "model_loss, model_accuracy = nn.evaluate(X_test_scaled,y_test,verbose=2)\n",
    "print(f\"Loss: {model_loss}, Accuracy: {model_accuracy}\")"
   ]
  },
  {
   "cell_type": "code",
   "execution_count": 37,
   "metadata": {
    "id": "YABNV9zSom3-"
   },
   "outputs": [],
   "source": [
    "# Export our model to HDF5 file\n",
    "nn.save(\"AlphabetSoupCharity_Optimization.h5\")"
   ]
  },
  {
   "cell_type": "code",
   "execution_count": null,
   "metadata": {},
   "outputs": [],
   "source": []
  }
 ],
 "metadata": {
  "colab": {
   "provenance": []
  },
  "kernelspec": {
   "display_name": "Python 3 (ipykernel)",
   "language": "python",
   "name": "python3"
  },
  "language_info": {
   "codemirror_mode": {
    "name": "ipython",
    "version": 3
   },
   "file_extension": ".py",
   "mimetype": "text/x-python",
   "name": "python",
   "nbconvert_exporter": "python",
   "pygments_lexer": "ipython3",
   "version": "3.10.13"
  },
  "vscode": {
   "interpreter": {
    "hash": "31f2aee4e71d21fbe5cf8b01ff0e069b9275f58929596ceb00d14d90e3e16cd6"
   }
  }
 },
 "nbformat": 4,
 "nbformat_minor": 4
}
