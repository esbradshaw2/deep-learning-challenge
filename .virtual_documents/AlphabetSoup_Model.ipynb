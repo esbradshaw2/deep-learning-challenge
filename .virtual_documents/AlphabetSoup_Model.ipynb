


# Import our dependencies
from sklearn.model_selection import train_test_split
from sklearn.preprocessing import StandardScaler
import pandas as pd
import tensorflow as tf

#  Import and read the charity_data.csv.
import pandas as pd
application_df = pd.read_csv("https://static.bc-edx.com/data/dl-1-2/m21/lms/starter/charity_data.csv")
application_df.head()


# Identify target variable and feature variables
# Drop the non-beneficial ID columns, 'EIN' and 'NAME'.
target = 'IS_SUCCESSFUL'
features = application_df.drop(['EIN', 'NAME'], axis=1)


# Determine the number of unique values in each column.
unique_counts = features.nunique()


# Look at APPLICATION_TYPE value counts to identify and replace with "Other"
application_counts = features['APPLICATION_TYPE'].value_counts()



# Choose a cutoff value and create a list of application types to be replaced
# use the variable name `application_types_to_replace`
application_types_to_replace = list(application_counts[application_counts < 500].index)


# Replace in dataframe
for app in application_types_to_replace:
    features['APPLICATION_TYPE'] = features['APPLICATION_TYPE'].replace(app,"Other")

# Check to make sure replacement was successful
features['APPLICATION_TYPE'].value_counts()


# Look at CLASSIFICATION value counts to identify and replace with "Other"
classification_counts = features['CLASSIFICATION'].value_counts()
replace_classification = list(classification_counts[classification_counts < 1000].index)


# You may find it helpful to look at CLASSIFICATION value counts >1
classification_counts_gt1 = features['CLASSIFICATION'].value_counts()[features['CLASSIFICATION'].value_counts() > 1]


# Choose a cutoff value and create a list of classifications to be replaced
# use the variable name `classifications_to_replace`
cutoff_value = 500
classifications_to_replace = list(classification_counts_gt1[classification_counts_gt1 < cutoff_value].index)

# Replace in dataframe
for cls in classifications_to_replace:
    features['CLASSIFICATION'] = features['CLASSIFICATION'].replace(cls,"Other")

# Check to make sure replacement was successful
features['CLASSIFICATION'].value_counts()


# Convert categorical data to numeric with `pd.get_dummies`
df_encoded = pd.get_dummies(features)


# Split our preprocessed data into our features and target arrays
X = df_encoded.drop(target, axis=1)
y = df_encoded[target]

# Split the preprocessed data into a training and testing dataset
X_train, X_test, y_train, y_test = train_test_split(X, y, test_size=0.2, random_state=1)


# Create a StandardScaler instances
scaler = StandardScaler()

# Fit the StandardScaler
#X_scaler = scaler.fit(X_train)

# Scale the data
#X_train_scaled = X_scaler.transform(X_train)
#X_test_scaled = X_scaler.transform(X_test)

# Fit the StandardScaler
X_train_scaled = scaler.fit_transform(X_train)
X_test_scaled = scaler.transform(X_test)





# Define the model - deep neural net, i.e., the number of input features and hidden nodes for each layer.
nn = tf.keras.models.Sequential()
input_features = X_train.shape[1]

# First hidden layer
nn.add(tf.keras.layers.Dense(units=10, activation='relu', input_dim=input_features))

# Second hidden layer
nn.add(tf.keras.layers.Dense(units=5, activation='relu'))

# Output layer
nn.add(tf.keras.layers.Dense(units=1, activation='sigmoid'))

# Check the structure of the model
nn.summary()


# Compile the model
nn.compile(loss='binary_crossentropy', optimizer='adam', metrics=['accuracy'])


# Train the model
nn.fit(X_train_scaled, y_train, epochs=50, shuffle=True, verbose=2)


# Evaluate the model using the test data
model_loss, model_accuracy = nn.evaluate(X_test_scaled,y_test,verbose=2)
print(f"Loss: {model_loss}, Accuracy: {model_accuracy}")


# Export our model to HDF5 file
nn.save("AlphabetSoupCharity_Optimization.h5")



